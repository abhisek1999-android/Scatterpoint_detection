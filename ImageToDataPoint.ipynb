{
 "cells": [
  {
   "cell_type": "markdown",
   "id": "23004632",
   "metadata": {},
   "source": [
    "### \n",
    "A tool ( Python Code, preferably a Python Class / Function ) that can digitise a plot - convert a chart/plot/image to raw data. For simplicity, it can start with a “scatterplot” digitisation.\n",
    "\n",
    "Here is the expectation - \n",
    "The user uploads a well-cropped image of a scatterplot. The user can also provide any other UI based input/inputs such as “origin” if required for the tool. After successful execution of the code, a csv file gets created holding the raw data for columns X and Y of the scatterplot "
   ]
  },
  {
   "cell_type": "markdown",
   "id": "8521f1be",
   "metadata": {},
   "source": [
    "### Imports"
   ]
  },
  {
   "cell_type": "code",
   "execution_count": 32,
   "id": "20dc32d5",
   "metadata": {},
   "outputs": [],
   "source": [
    "import numpy as np\n",
    "import cv2\n",
    "import matplotlib.pyplot as plt\n",
    "from statistics import mode\n",
    "import math\n",
    "import csv\n",
    "import pandas as pd"
   ]
  },
  {
   "cell_type": "markdown",
   "id": "9d82ef26",
   "metadata": {},
   "source": [
    "Algorithms used :\n",
    "\n",
    "1. Canny\n",
    "2. HoughLinesP"
   ]
  },
  {
   "cell_type": "code",
   "execution_count": 72,
   "id": "43d90070",
   "metadata": {},
   "outputs": [],
   "source": [
    "# Class for generating the coordinate points.\n",
    "class PredictPoints:\n",
    "    x_cod=[]\n",
    "    y_cod=[]\n",
    "    \n",
    "    def __init__(self,path,x_min,x_max,y_min,y_max):\n",
    "        self.path=path\n",
    "        self.new_max_x=x_max\n",
    "        self.new_min_x=x_min\n",
    "        self.new_max_y=y_max\n",
    "        self.new_min_y=y_min\n",
    "                \n",
    "    def original_value(self,old_max,old_min,new_max,new_min,old_value):\n",
    "        old_range = (old_max - old_min)  \n",
    "        new_range = (new_max - new_min)  \n",
    "        new_value = round(((((old_value - old_min) * new_range) / old_range) + new_min),2)\n",
    "        return new_value\n",
    "\n",
    "    # This method is used to scale the coordinate points according the input value range\n",
    "    def generate_scaled_point(self):\n",
    "        for i in range(len(self.x_cod)):\n",
    "            self.x_cod[i]=self.original_value(1000,0,self.new_max_x,self.new_min_x,self.x_cod[i])\n",
    "            self.y_cod[i]=self.original_value(1000,0,self.new_max_y,self.new_min_y,self.y_cod[i])\n",
    "            \n",
    "    # This method generates the corordinates of the x-axis and y-axis.\n",
    "    # Hence allowing us to shift our base lines(x,y axis) from the boundary of the image \n",
    "    # to some certain x,y axis equivalent inside the image.\n",
    "\n",
    "    def generate_lines(self):\n",
    "        image = cv2.imread(self.path)\n",
    "        gray = cv2.flip(image, 0)\n",
    "        edges = cv2.Canny(gray,50,150,apertureSize = 3)\n",
    "        cv2.imwrite('edges.jpg',edges)\n",
    "        minLineLength=100\n",
    "        lines = cv2.HoughLinesP(image=edges,rho=1,theta=np.pi/180, threshold=100,lines=np.array([]), minLineLength=minLineLength,maxLineGap=80)\n",
    "\n",
    "        a,b,c = lines.shape\n",
    "        max_val=[]\n",
    "        for i in range(a):\n",
    "            max_val.append(lines[i][0][0])\n",
    "            max_val.append(lines[i][0][1])\n",
    "            max_val.append(lines[i][0][2])\n",
    "            max_val.append(lines[i][0][3])\n",
    "            print('x1:',lines[i][0][0],'y1:', lines[i][0][1],'x2:',lines[i][0][2],'y2: ',lines[i][0][3])\n",
    "\n",
    "            cv2.line(gray, (lines[i][0][0], lines[i][0][1]), (lines[i][0][2], lines[i][0][3]), (0, 0, 255), 3, cv2.LINE_AA)\n",
    "            cv2.imwrite('houghlines7.jpg',gray)\n",
    "        for i in range(len(self.x_cod)):\n",
    "            self.x_cod[i]+=mode(max_val)\n",
    "            self.y_cod[i]+=mode(max_val)\n",
    "            \n",
    "           \n",
    "        self.generate_scaled_point()\n",
    "        \n",
    "    # This method uses opencv to detect the points of a scatter plot and returns the coordinates of the points \n",
    "    \n",
    "    def generating_points(self):\n",
    "         # Load image\n",
    "        im = cv2.imread(self.path)\n",
    "        # Convert to grayscale and threshold\n",
    "        imgray = cv2.cvtColor(im,cv2.COLOR_BGR2GRAY)\n",
    "        gray = cv2.flip(imgray, 0)\n",
    "        ret,thresh = cv2.threshold(gray,1,255,0)\n",
    "        # Find contours, draw on image and save\n",
    "        contours, hierarchy = cv2.findContours(thresh,cv2.RETR_TREE,cv2.CHAIN_APPROX_SIMPLE)\n",
    "        cv2.drawContours(im, contours, -1, (0,255,0), 3)\n",
    "        cv2.imwrite('result.png',gray)\n",
    "\n",
    "        # Show user what we found\n",
    "        for cnt in contours:\n",
    "            (x,y),radius = cv2.minEnclosingCircle(cnt)\n",
    "            center = (x,y)\n",
    "            radius = round(radius,2)\n",
    "            # It was seen that the radious of the points lie between the range of 3.3 to 5 .\n",
    "            if radius>3 and radius<5:\n",
    "                          print('Contour: centre {},{}'.format(int(x),int(y)))\n",
    "                          self.x_cod.append(x) #appending the x coordinate value.\n",
    "                          self.y_cod.append(y) # appending the y coordinate value.\n",
    "                    \n",
    "        self.generate_lines()\n",
    "  \n",
    "  # This method is used to generate the csv file \n",
    "    def generate_csv(self):\n",
    "        print(self.x_cod)\n",
    "        print(self.y_cod)\n",
    "        header = ['x_label','y_label']\n",
    "        values=[]\n",
    "        for i in range(len(self.x_cod)):\n",
    "            values.append([self.x_cod[i],self.y_cod[i]])  \n",
    "        with open('predicted_labels.csv', 'w', encoding='UTF8', newline='') as f:\n",
    "            writer = csv.writer(f)\n",
    "            # write the header\n",
    "            writer.writerow(header)\n",
    "            # write multiple rows\n",
    "            writer.writerows(values)\n",
    "            print(\"CSV file generate successfully!! :)\")\n",
    "            \n",
    "    # This method is used to display the csv file with the image also.        \n",
    "    def display_csv(self):\n",
    "    \n",
    "        data=pd.read_csv('predicted_labels.csv')\n",
    "        data.head()\n",
    "        plt.figure(figsize=(14,6))\n",
    "        plt.subplot(1,2,1)\n",
    "        plt.title(\"Predicted\")\n",
    "        plt.scatter(self.x_cod,self.y_cod)\n",
    "        plt.subplot(1,2,2)\n",
    "        plt.title(\"Original\")\n",
    "        im = cv2.imread(self.path)\n",
    "        plt.imshow(cv2.cvtColor(im, cv2.COLOR_BGR2RGB))\n",
    "        plt.xticks([])  \n",
    "        plt.yticks([])"
   ]
  },
  {
   "cell_type": "code",
   "execution_count": 73,
   "id": "4e31547b",
   "metadata": {},
   "outputs": [
    {
     "name": "stdout",
     "output_type": "stream",
     "text": [
      "Contour: centre 480,371\n",
      "Contour: centre 700,357\n",
      "Contour: centre 627,322\n",
      "Contour: centre 553,301\n",
      "Contour: centre 334,287\n",
      "Contour: centre 407,266\n",
      "Contour: centre 260,217\n",
      "Contour: centre 114,111\n",
      "Contour: centre 187,76\n",
      "x1: 13 y1: 40 x2: 772 y2:  40\n",
      "x1: 42 y1: 393 x2: 42 y2:  34\n",
      "x1: 40 y1: 391 x2: 40 y2:  12\n",
      "[62061.11, 84034.85, 76700.0, 69370.0, 47400.0, 54750.0, 40057.14, 25443.94, 32765.15]\n",
      "[70.57, 69.87, 68.12, 67.06, 66.37, 65.3, 62.85, 57.58, 55.83]\n",
      "CSV file generate successfully!! :)\n"
     ]
    },
    {
     "data": {
      "image/png": "[encoded data removed]",
      "text/plain": [
       "<Figure size 1008x432 with 2 Axes>"
      ]
     },
     "metadata": {
      "needs_background": "light"
     },
     "output_type": "display_data"
    }
   ],
   "source": [
    "# creating instance of PredictPoint class. \n",
    "# This class' constructor takes following arguments: image path, x axis range and y axis range.\n",
    "# PredictPoints(\"image path\",x_min,x_max,y_min,y_max)\n",
    "\n",
    "pred=PredictPoints('img12.png',10000,110000,50,100)\n",
    "pred.generating_points()\n",
    "pred.generate_csv()\n",
    "pred.display_csv()"
   ]
  },
  {
   "cell_type": "markdown",
   "id": "ba16777d",
   "metadata": {},
   "source": [
    "#### Observation:\n",
    "\n",
    "1. The predicted points may not be the same like the ones given in the input image.\n",
    "\n",
    "2. This model might not work well for scatter plots that involves points lying in negative quadrents.\n",
    "\n"
   ]
  },
  {
   "cell_type": "markdown",
   "id": "2b96583b",
   "metadata": {},
   "source": [
    "#### Referances:\n",
    "1. OpenCV, Open Source Computer Vision,https://docs.opencv.org/3.4/index.html\n",
    "2. Stack Overflow, https://stackoverflow.com/\n",
    "\n",
    "#### Image Resource:\n",
    "https://www150.statcan.gc.ca/n1/edu/power-pouvoir/c-g/c-g05-6-1-eng.png"
   ]
  },
  {
   "cell_type": "markdown",
   "id": "3e283641",
   "metadata": {},
   "source": []
  }
 ],
 "metadata": {
  "kernelspec": {
   "display_name": "Python 3",
   "language": "python",
   "name": "python3"
  },
  "language_info": {
   "codemirror_mode": {
    "name": "ipython",
    "version": 3
   },
   "file_extension": ".py",
   "mimetype": "text/x-python",
   "name": "python",
   "nbconvert_exporter": "python",
   "pygments_lexer": "ipython3",
   "version": "3.8.8"
  }
 },
 "nbformat": 4,
 "nbformat_minor": 5
}
